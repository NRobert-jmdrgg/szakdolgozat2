{
 "cells": [
  {
   "cell_type": "code",
   "execution_count": 21,
   "metadata": {},
   "outputs": [],
   "source": [
    "from transformers import AutoModelForSequenceClassification, AutoTokenizer, pipeline\n",
    "from scipy.special import expit\n",
    "from PIL import Image\n",
    "import requests\n",
    "\n",
    "class TextClassifier:\n",
    "    def __init__(self):\n",
    "        MODEL = \"cardiffnlp/tweet-topic-21-multi\"\n",
    "        self.tokenizer = AutoTokenizer.from_pretrained(MODEL)\n",
    "        self.model = AutoModelForSequenceClassification.from_pretrained(MODEL)\n",
    "        self.class_mapping = self.model.config.id2label\n",
    "    \n",
    "    def classify(self, inputs):\n",
    "        results = []\n",
    "        for input in inputs:            \n",
    "            tokens = self.tokenizer(input, return_tensors='pt')\n",
    "            output = self.model(**tokens)\n",
    "            scores = output[0][0].detach().numpy()\n",
    "            scores = expit(scores)\n",
    "            predictions = (scores >= 0.5) * 1\n",
    "            labels = []\n",
    "            for i in range(len(predictions)):\n",
    "                if predictions[i]:\n",
    "                    labels.append(self.class_mapping[i])\n",
    "            results.append(labels)\n",
    "        return results\n"
   ]
  },
  {
   "cell_type": "code",
   "execution_count": null,
   "metadata": {},
   "outputs": [],
   "source": [
    "class ImageClassifier:\n",
    "    def __init__(self):\n",
    "        self.checkpoint = \"openai/clip-vit-large-patch14\"\n",
    "        self.classifier = pipeline(model=self.checkpoint, task=\"zero-shot-image-classification\")\n",
    "        \n",
    "    def classify(self, urls):\n",
    "        results = []\n",
    "        for url in urls:\n",
    "            image = Image.open(requests.get(url, stream=True).raw)\n",
    "            predictions = self.classifier(image, candidate_labels=[\"fox\", \"bear\", \"seagull\", \"owl\"])\n",
    "            results.append(predictions)\n",
    "        return results\n"
   ]
  },
  {
   "cell_type": "code",
   "execution_count": 22,
   "metadata": {},
   "outputs": [
    {
     "name": "stdout",
     "output_type": "stream",
     "text": [
      "[['news_&_social_concern', 'sports'], ['food_&_dining']]\n"
     ]
    }
   ],
   "source": [
    "tc = TextClassifier()\n",
    "ic = ImageClassifier()\n",
    "print(tc.classify([\"It is great to see athletes promoting awareness for climate change.\", \"I like burger king\"]))\n",
    "print(ic.classify([\"https://unsplash.com/photos/g8oS8-82DxI/download?ixid=MnwxMjA3fDB8MXx0b3BpY3x8SnBnNktpZGwtSGt8fHx8fDJ8fDE2NzgxMDYwODc&force=true&w=640\"]))"
   ]
  }
 ],
 "metadata": {
  "kernelspec": {
   "display_name": "Python 3",
   "language": "python",
   "name": "python3"
  },
  "language_info": {
   "codemirror_mode": {
    "name": "ipython",
    "version": 3
   },
   "file_extension": ".py",
   "mimetype": "text/x-python",
   "name": "python",
   "nbconvert_exporter": "python",
   "pygments_lexer": "ipython3",
   "version": "3.11.5"
  },
  "orig_nbformat": 4
 },
 "nbformat": 4,
 "nbformat_minor": 2
}
